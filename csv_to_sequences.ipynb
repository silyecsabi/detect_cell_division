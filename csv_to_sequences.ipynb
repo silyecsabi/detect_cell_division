{
 "cells": [
  {
   "cell_type": "markdown",
   "id": "59ad2773",
   "metadata": {},
   "source": [
    "# Creating csv files with images and labels for Recurrent Neural Network"
   ]
  },
  {
   "cell_type": "code",
   "execution_count": 1,
   "id": "c30a19d9",
   "metadata": {},
   "outputs": [],
   "source": [
    "import os"
   ]
  },
  {
   "cell_type": "markdown",
   "id": "47991a63",
   "metadata": {},
   "source": [
    "#### All images labeled '1'"
   ]
  },
  {
   "cell_type": "code",
   "execution_count": 54,
   "id": "101d8556",
   "metadata": {},
   "outputs": [],
   "source": [
    "yes_images = os.listdir(r'./sliced_images_folder/all_images_jpg/yes')\n",
    "yes_images = sorted(yes_images, key = lambda x: int(x.split('_')[0]))"
   ]
  },
  {
   "cell_type": "markdown",
   "id": "fab91fc4",
   "metadata": {},
   "source": [
    "#### Search each images, if it is labeled '1'"
   ]
  },
  {
   "cell_type": "code",
   "execution_count": 49,
   "id": "38da31b6",
   "metadata": {},
   "outputs": [],
   "source": [
    "for i in range(520):\n",
    "    sequence_dir = os.listdir(fr'./sliced_images_folder/image_sequences/{i}')\n",
    "    with open(fr'./sliced_images_folder/csv_sequences/{i}.csv', 'w') as out_file:\n",
    "        for j in range(len(sequence_dir)):\n",
    "            if sequence_dir[j] in yes_images:\n",
    "                print(sequence_dir[j], 1, file = out_file)\n",
    "            else:\n",
    "                print(sequence_dir[j], 0, file = out_file)"
   ]
  }
 ],
 "metadata": {
  "kernelspec": {
   "display_name": "Python 3 (ipykernel)",
   "language": "python",
   "name": "python3"
  },
  "language_info": {
   "codemirror_mode": {
    "name": "ipython",
    "version": 3
   },
   "file_extension": ".py",
   "mimetype": "text/x-python",
   "name": "python",
   "nbconvert_exporter": "python",
   "pygments_lexer": "ipython3",
   "version": "3.9.12"
  }
 },
 "nbformat": 4,
 "nbformat_minor": 5
}

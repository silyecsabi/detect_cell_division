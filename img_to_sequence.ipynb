{
 "cells": [
  {
   "cell_type": "markdown",
   "id": "9970c4cf",
   "metadata": {},
   "source": [
    "# Creating image sequences for Recurrent Neural Network"
   ]
  },
  {
   "cell_type": "code",
   "execution_count": 37,
   "id": "cb6ae12f",
   "metadata": {},
   "outputs": [],
   "source": [
    "import os\n",
    "import shutil"
   ]
  },
  {
   "cell_type": "code",
   "execution_count": 38,
   "id": "9514b054",
   "metadata": {},
   "outputs": [],
   "source": [
    "yes_images = os.listdir(r'./sliced_images_folder/all_images_jpg/yes')\n",
    "no_images = os.listdir(r'./sliced_images_folder/all_images_jpg/no')"
   ]
  },
  {
   "cell_type": "markdown",
   "id": "cce1d19a",
   "metadata": {},
   "source": [
    "#### Little optimalization"
   ]
  },
  {
   "cell_type": "code",
   "execution_count": 48,
   "id": "edd1c7bb",
   "metadata": {},
   "outputs": [],
   "source": [
    "yes_images = sorted(yes_images, key = lambda x: int(x.split('_')[0]))\n",
    "no_images = sorted(no_images, key = lambda x: int(x.split('_')[0]))"
   ]
  },
  {
   "cell_type": "markdown",
   "id": "8e83820e",
   "metadata": {},
   "source": [
    "#### Make directory for all slice"
   ]
  },
  {
   "cell_type": "code",
   "execution_count": 27,
   "id": "fbfd0548",
   "metadata": {},
   "outputs": [],
   "source": [
    "for i in range(520):\n",
    "    os.mkdir(fr'./sliced_images_folder/image_sequences/{i}')\n"
   ]
  },
  {
   "cell_type": "markdown",
   "id": "1921771c",
   "metadata": {},
   "source": [
    "### Search and copy to the directory"
   ]
  },
  {
   "cell_type": "code",
   "execution_count": 50,
   "id": "3f7e769c",
   "metadata": {},
   "outputs": [],
   "source": [
    "for i in range(520):\n",
    "    for j in range(len(yes_images)):\n",
    "        if yes_images[j].split('_')[0] == str(i):\n",
    "            src = fr'./sliced_images_folder/all_images_jpg/yes/{yes_images[j]}'\n",
    "            target = fr'./sliced_images_folder/image_sequences/{i}'\n",
    "            shutil.copy(src, target)"
   ]
  },
  {
   "cell_type": "code",
   "execution_count": 51,
   "id": "439d6c08",
   "metadata": {},
   "outputs": [],
   "source": [
    "for i in range(520):\n",
    "    for j in range(len(no_images)):\n",
    "        if no_images[j].split('_')[0] == str(i):\n",
    "            src = fr'./sliced_images_folder/all_images_jpg/no/{no_images[j]}'\n",
    "            target = fr'./sliced_images_folder/image_sequences/{i}'\n",
    "            shutil.copy(src, target)"
   ]
  },
  {
   "cell_type": "code",
   "execution_count": null,
   "id": "32a978d1",
   "metadata": {},
   "outputs": [],
   "source": []
  }
 ],
 "metadata": {
  "kernelspec": {
   "display_name": "Python 3 (ipykernel)",
   "language": "python",
   "name": "python3"
  },
  "language_info": {
   "codemirror_mode": {
    "name": "ipython",
    "version": 3
   },
   "file_extension": ".py",
   "mimetype": "text/x-python",
   "name": "python",
   "nbconvert_exporter": "python",
   "pygments_lexer": "ipython3",
   "version": "3.9.12"
  }
 },
 "nbformat": 4,
 "nbformat_minor": 5
}
